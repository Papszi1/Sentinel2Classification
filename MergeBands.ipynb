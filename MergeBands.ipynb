{
  "cells": [
    {
      "cell_type": "markdown",
      "source": [
        "*Downloading a .tif picture from the Sentinel2 website might cause issue. If you can only download the 4 bands which are neccessary, this helps you forge them together*\n"
      ],
      "metadata": {
        "id": "P1_7T--ssgCn"
      }
    },
    {
      "cell_type": "code",
      "source": [
        "import os\n",
        "print(\"Files in the current directory:\", os.listdir('/content'))\n",
        "from google.colab import drive\n",
        "drive.mount('/content/drive')\n",
        "!pip install rasterio"
      ],
      "metadata": {
        "id": "hoXpkbKHtEix",
        "outputId": "9ca7f165-ba3a-4ba3-b3f9-8513cb46823a",
        "colab": {
          "base_uri": "https://localhost:8080/"
        }
      },
      "execution_count": 2,
      "outputs": [
        {
          "output_type": "stream",
          "name": "stdout",
          "text": [
            "Files in the current directory: ['.config', 'drive', 'sample_data']\n",
            "Drive already mounted at /content/drive; to attempt to forcibly remount, call drive.mount(\"/content/drive\", force_remount=True).\n",
            "Collecting rasterio\n",
            "  Downloading rasterio-1.4.3-cp311-cp311-manylinux_2_17_x86_64.manylinux2014_x86_64.whl.metadata (9.1 kB)\n",
            "Collecting affine (from rasterio)\n",
            "  Downloading affine-2.4.0-py3-none-any.whl.metadata (4.0 kB)\n",
            "Requirement already satisfied: attrs in /usr/local/lib/python3.11/dist-packages (from rasterio) (25.3.0)\n",
            "Requirement already satisfied: certifi in /usr/local/lib/python3.11/dist-packages (from rasterio) (2025.1.31)\n",
            "Requirement already satisfied: click>=4.0 in /usr/local/lib/python3.11/dist-packages (from rasterio) (8.1.8)\n",
            "Collecting cligj>=0.5 (from rasterio)\n",
            "  Downloading cligj-0.7.2-py3-none-any.whl.metadata (5.0 kB)\n",
            "Requirement already satisfied: numpy>=1.24 in /usr/local/lib/python3.11/dist-packages (from rasterio) (2.0.2)\n",
            "Collecting click-plugins (from rasterio)\n",
            "  Downloading click_plugins-1.1.1-py2.py3-none-any.whl.metadata (6.4 kB)\n",
            "Requirement already satisfied: pyparsing in /usr/local/lib/python3.11/dist-packages (from rasterio) (3.2.1)\n",
            "Downloading rasterio-1.4.3-cp311-cp311-manylinux_2_17_x86_64.manylinux2014_x86_64.whl (22.2 MB)\n",
            "\u001b[2K   \u001b[90m━━━━━━━━━━━━━━━━━━━━━━━━━━━━━━━━━━━━━━━━\u001b[0m \u001b[32m22.2/22.2 MB\u001b[0m \u001b[31m50.9 MB/s\u001b[0m eta \u001b[36m0:00:00\u001b[0m\n",
            "\u001b[?25hDownloading cligj-0.7.2-py3-none-any.whl (7.1 kB)\n",
            "Downloading affine-2.4.0-py3-none-any.whl (15 kB)\n",
            "Downloading click_plugins-1.1.1-py2.py3-none-any.whl (7.5 kB)\n",
            "Installing collected packages: cligj, click-plugins, affine, rasterio\n",
            "Successfully installed affine-2.4.0 click-plugins-1.1.1 cligj-0.7.2 rasterio-1.4.3\n"
          ]
        }
      ]
    },
    {
      "cell_type": "code",
      "source": [
        "import rasterio\n",
        "import numpy as np\n",
        "band_2_path = '/content/drive/MyDrive/MySentinel/Bands/1picture/band1.tif'\n",
        "band_3_path = '/content/drive/MyDrive/MySentinel/Bands/1picture/band2.tif'\n",
        "band_4_path = '/content/drive/MyDrive/MySentinel/Bands/1picture/band3.tif'\n",
        "band_8_path = '/content/drive/MyDrive/MySentinel/Bands/1picture/band4.tif'\n",
        "\n",
        "with rasterio.open(band_2_path) as b2, \\\n",
        "     rasterio.open(band_3_path) as b3, \\\n",
        "     rasterio.open(band_4_path) as b4, \\\n",
        "     rasterio.open(band_8_path) as b8:\n",
        "\n",
        "    band_2 = b2.read(1)\n",
        "    band_3 = b3.read(1)\n",
        "    band_4 = b4.read(1)\n",
        "    band_8 = b8.read(1)\n",
        "    bands_stack = np.stack([band_2, band_3, band_4, band_8], axis=-1)\n",
        "    metadata = b2.meta\n",
        "    metadata.update(count=4)\n",
        "\n",
        "output_path = '/content/drive/MyDrive/MySentinel/Dataset/Training_photo/output_combined_bands.tif'\n",
        "with rasterio.open(output_path, 'w', **metadata) as dst:\n",
        "    for i in range(4):\n",
        "        dst.write(bands_stack[:, :, i], i + 1)\n",
        "\n",
        "print(f\"Multi-band TIFF created at: {output_path}\")"
      ],
      "metadata": {
        "id": "E5KJhrWds5f9",
        "outputId": "c3337fe5-647e-4938-c985-bea0193cb23b",
        "colab": {
          "base_uri": "https://localhost:8080/"
        }
      },
      "execution_count": 6,
      "outputs": [
        {
          "output_type": "stream",
          "name": "stderr",
          "text": [
            "WARNING:rasterio._env:CPLE_AppDefined in band1.tif: TIFFReadDirectory:Sum of Photometric type-related color channels and ExtraSamples doesn't match SamplesPerPixel. Defining non-color channels as ExtraSamples.\n",
            "WARNING:rasterio._env:CPLE_AppDefined in band2.tif: TIFFReadDirectory:Sum of Photometric type-related color channels and ExtraSamples doesn't match SamplesPerPixel. Defining non-color channels as ExtraSamples.\n",
            "WARNING:rasterio._env:CPLE_AppDefined in band3.tif: TIFFReadDirectory:Sum of Photometric type-related color channels and ExtraSamples doesn't match SamplesPerPixel. Defining non-color channels as ExtraSamples.\n",
            "WARNING:rasterio._env:CPLE_AppDefined in band4.tif: TIFFReadDirectory:Sum of Photometric type-related color channels and ExtraSamples doesn't match SamplesPerPixel. Defining non-color channels as ExtraSamples.\n",
            "WARNING:rasterio._env:CPLE_AppDefined in TIFFReadDirectory:Sum of Photometric type-related color channels and ExtraSamples doesn't match SamplesPerPixel. Defining non-color channels as ExtraSamples.\n",
            "WARNING:rasterio._env:CPLE_AppDefined in TIFFReadDirectory:Sum of Photometric type-related color channels and ExtraSamples doesn't match SamplesPerPixel. Defining non-color channels as ExtraSamples.\n",
            "WARNING:rasterio._env:CPLE_AppDefined in TIFFReadDirectory:Sum of Photometric type-related color channels and ExtraSamples doesn't match SamplesPerPixel. Defining non-color channels as ExtraSamples.\n",
            "WARNING:rasterio._env:CPLE_AppDefined in TIFFReadDirectory:Sum of Photometric type-related color channels and ExtraSamples doesn't match SamplesPerPixel. Defining non-color channels as ExtraSamples.\n"
          ]
        },
        {
          "output_type": "stream",
          "name": "stdout",
          "text": [
            "Multi-band TIFF created at: /content/drive/MyDrive/MySentinel/Dataset/Training_photo/output_combined_bands.tif\n"
          ]
        }
      ]
    }
  ],
  "metadata": {
    "colab": {
      "provenance": []
    },
    "language_info": {
      "name": "python"
    },
    "kernelspec": {
      "name": "python3",
      "display_name": "Python 3"
    }
  },
  "nbformat": 4,
  "nbformat_minor": 0
}