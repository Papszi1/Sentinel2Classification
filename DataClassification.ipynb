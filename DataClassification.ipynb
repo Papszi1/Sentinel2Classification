{
  "cells": [
    {
      "cell_type": "markdown",
      "source": [
        "*Import the google drive to save and load data*"
      ],
      "metadata": {
        "id": "WsC1J-vFilF4"
      }
    },
    {
      "cell_type": "code",
      "source": [
        "import os\n",
        "print(\"Files in the current directory:\", os.listdir('/content'))\n",
        "from google.colab import drive\n",
        "drive.mount('/content/drive')"
      ],
      "metadata": {
        "id": "vY_x_Sh2irjH",
        "outputId": "216772e3-83db-42bb-cffc-7a251e0a227f",
        "colab": {
          "base_uri": "https://localhost:8080/"
        }
      },
      "execution_count": 1,
      "outputs": [
        {
          "output_type": "stream",
          "name": "stdout",
          "text": [
            "Files in the current directory: ['.config', 'sample_data']\n",
            "Mounted at /content/drive\n"
          ]
        }
      ]
    },
    {
      "cell_type": "markdown",
      "source": [
        "*After that upload trhe Testing and Training folder to the given path*"
      ],
      "metadata": {
        "id": "AvBHQfBRm7UX"
      }
    },
    {
      "cell_type": "code",
      "source": [
        "import numpy as np\n",
        "X_train = np.load('/content/drive/MyDrive/MySentinel/Dataset/Training/training_features.npy')\n",
        "y_train = np.load('/content/drive/MyDrive/MySentinel/Dataset/Training/training_labels.npy')\n",
        "X_test = np.load('/content/drive/MyDrive/MySentinel/Dataset/Testing/testing_features.npy')\n",
        "y_test = np.load('/content/drive/MyDrive/MySentinel/Dataset/Testing/testing_labels.npy')"
      ],
      "metadata": {
        "id": "QNfbjUiAnApc"
      },
      "execution_count": 4,
      "outputs": []
    },
    {
      "cell_type": "markdown",
      "source": [
        "*Let's see how many data we are working with, usually we have 4times more for training than testing*"
      ],
      "metadata": {
        "id": "SBhf9FU7nmQD"
      }
    },
    {
      "cell_type": "code",
      "source": [
        "print(X_train.shape)\n",
        "print(y_train.shape)\n",
        "print(X_test.shape)\n",
        "print(y_test.shape)\n",
        "print(X_train.dtype, y_train.dtype, X_test.dtype, y_test.dtype)"
      ],
      "metadata": {
        "id": "ZpD2Dnzanpd9",
        "outputId": "be63d699-5f2b-41a1-82b1-0f6de4be02df",
        "colab": {
          "base_uri": "https://localhost:8080/"
        }
      },
      "execution_count": 10,
      "outputs": [
        {
          "output_type": "stream",
          "name": "stdout",
          "text": [
            "(12000, 5, 5, 4)\n",
            "(12000,)\n",
            "(3000, 5, 5, 4)\n",
            "(3000,)\n",
            "uint16 int32 float32 int32\n"
          ]
        }
      ]
    },
    {
      "cell_type": "markdown",
      "source": [
        "*Let's take a closer look*"
      ],
      "metadata": {
        "id": "RdAeEUIGoAVF"
      }
    },
    {
      "cell_type": "code",
      "source": [
        "print(X_train[0])\n"
      ],
      "metadata": {
        "id": "bEzn6zH2oCtL",
        "outputId": "78a0e9cc-c4a4-444f-df97-e68c89959ae3",
        "colab": {
          "base_uri": "https://localhost:8080/"
        }
      },
      "execution_count": 12,
      "outputs": [
        {
          "output_type": "stream",
          "name": "stdout",
          "text": [
            "[0 0 0 ... 4 4 4]\n"
          ]
        }
      ]
    }
  ],
  "metadata": {
    "colab": {
      "provenance": []
    },
    "language_info": {
      "name": "python"
    },
    "kernelspec": {
      "name": "python3",
      "display_name": "Python 3"
    }
  },
  "nbformat": 4,
  "nbformat_minor": 0
}